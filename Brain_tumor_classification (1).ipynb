{
  "cells": [
    {
      "cell_type": "code",
      "execution_count": null,
      "metadata": {
        "id": "Bi-5Ae-YC1r-"
      },
      "outputs": [],
      "source": [
        "#import necessary packages\n",
        "import numpy as np\n",
        "from PIL import Image\n",
        "\n",
        "import torch\n",
        "import torch.nn as nn\n",
        "from torch.utils.data import random_split\n",
        "from torch.utils.data import DataLoader, Subset\n",
        "\n",
        "import torchvision\n",
        "from torchvision import datasets\n",
        "from torchvision.datasets import DatasetFolder\n",
        "import torchvision.transforms as transforms\n",
        "\n",
        "from tqdm.auto import tqdm\n",
        "import matplotlib.pyplot as plt\n"
      ]
    },
    {
      "cell_type": "markdown",
      "source": [
        "### **1) Import Dataset and preprocess images.**\n",
        "\n",
        "\n",
        "\n",
        "\n"
      ],
      "metadata": {
        "id": "2nwLq49uPyQL"
      }
    },
    {
      "cell_type": "code",
      "execution_count": null,
      "metadata": {
        "id": "Hu_MqAzCC50j"
      },
      "outputs": [],
      "source": [
        "\n",
        "!pip install -q opendatasets"
      ]
    },
    {
      "cell_type": "code",
      "execution_count": null,
      "metadata": {
        "colab": {
          "base_uri": "https://localhost:8080/"
        },
        "id": "TeAPdJB0C-4C",
        "outputId": "373dec5b-bdd8-46f3-d427-dbf4e230028a"
      },
      "outputs": [
        {
          "output_type": "stream",
          "name": "stdout",
          "text": [
            "Please provide your Kaggle credentials to download this dataset. Learn more: http://bit.ly/kaggle-creds\n",
            "Your Kaggle username: bethjane398\n",
            "Your Kaggle Key: ··········\n",
            "Dataset URL: https://www.kaggle.com/datasets/sartajbhuvaji/brain-tumor-classification-mri\n",
            "Downloading brain-tumor-classification-mri.zip to ./brain-tumor-classification-mri\n"
          ]
        },
        {
          "output_type": "stream",
          "name": "stderr",
          "text": [
            "100%|██████████| 86.8M/86.8M [00:00<00:00, 116MB/s]\n"
          ]
        },
        {
          "output_type": "stream",
          "name": "stdout",
          "text": [
            "\n"
          ]
        }
      ],
      "source": [
        "import opendatasets as od\n",
        "import pandas as pd\n",
        "#import data from kaggle\n",
        "\n",
        "\n",
        "od.download('https://www.kaggle.com/datasets/sartajbhuvaji/brain-tumor-classification-mri/data')"
      ]
    },
    {
      "cell_type": "code",
      "execution_count": null,
      "metadata": {
        "id": "fumVcFgnI0g3"
      },
      "outputs": [],
      "source": []
    },
    {
      "cell_type": "code",
      "execution_count": null,
      "metadata": {
        "id": "tdB9v9UcAyDO"
      },
      "outputs": [],
      "source": [
        "\n"
      ]
    },
    {
      "cell_type": "code",
      "execution_count": null,
      "metadata": {
        "id": "Hmasfs_tF2fO"
      },
      "outputs": [],
      "source": [
        "#resize images for input size for neural networks, augment images.\n",
        "train_transform = transforms.Compose([\n",
        "    transforms.Resize((224, 224)), #resizing images to 224x224\n",
        "    transforms.ToTensor(),          #convert images to tensor\n",
        "    transforms.RandomRotation(45),   #Randomly rotate by 45 degrees\n",
        "    transforms.RandomHorizontalFlip(),  #randomly flip horizontally\n",
        "     transforms.ColorJitter(brightness=0.4),  #change brightness randomly\n",
        "])\n",
        "\n",
        "#for testing set\n",
        "test_transform = transforms.Compose([\n",
        "    transforms.Resize((224,224)),\n",
        "    transforms.ToTensor(),\n",
        "])"
      ]
    },
    {
      "cell_type": "code",
      "execution_count": null,
      "metadata": {
        "colab": {
          "base_uri": "https://localhost:8080/"
        },
        "id": "gEvB4zNbF9Rd",
        "outputId": "ff6853bb-e8fd-475a-90df-133880fedc39"
      },
      "outputs": [
        {
          "output_type": "stream",
          "name": "stdout",
          "text": [
            "Original train set has 2870 samples\n",
            "Train set has 2583 samples\n",
            "Validation set has 287 samples\n",
            "Test set has 394 samples\n"
          ]
        }
      ],
      "source": [
        "\n",
        "train_dataset = datasets.ImageFolder(\"/content/brain-tumor-classification-mri/Training\", transform=train_transform)\n",
        "test_dataset = datasets.ImageFolder(\"/content/brain-tumor-classification-mri/Testing\", transform= test_transform)\n",
        "\n",
        "# ( 90% train, 10% evaluation)\n",
        "train_ratio = 0.9\n",
        "val_ratio = 1 - train_ratio\n",
        "\n",
        "\n",
        "train_size = int(train_ratio * len(train_dataset))\n",
        "val_size = len(train_dataset) - train_size\n",
        "\n",
        "# Split the train dataset into train and evaluation subsets\n",
        "train_subset, val_subset = random_split(train_dataset, [train_size, val_size])\n",
        "\n",
        "print(f'Original train set has {len(train_dataset)} samples')\n",
        "print(f'Train set has {len(train_subset)} samples')\n",
        "print(f'Validation set has {len(val_subset)} samples')\n",
        "print(f'Test set has {len(test_dataset)} samples')"
      ]
    },
    {
      "cell_type": "code",
      "execution_count": null,
      "metadata": {
        "id": "FM4e-DWbG4ZP"
      },
      "outputs": [],
      "source": [
        "batch_size = 20\n",
        "\n",
        "# Construct data loaders\n",
        "train_loader = DataLoader(train_subset, batch_size=batch_size, shuffle=True, num_workers=0, pin_memory=True)\n",
        "valid_loader = DataLoader(val_subset, batch_size=batch_size, shuffle=True, num_workers=0, pin_memory=True)\n",
        "test_loader = DataLoader(test_dataset, batch_size=batch_size, shuffle=False)"
      ]
    },
    {
      "cell_type": "code",
      "execution_count": null,
      "metadata": {
        "colab": {
          "base_uri": "https://localhost:8080/",
          "height": 182
        },
        "id": "VkTKbuCGyU7e",
        "outputId": "88486f51-2bed-45d2-e8ea-5b012a791210"
      },
      "outputs": [
        {
          "output_type": "display_data",
          "data": {
            "text/plain": [
              "<Figure size 640x480 with 1 Axes>"
            ],
            "image/png": "[encoded data removed]"
          },
          "metadata": {}
        }
      ],
      "source": [
        "\n",
        "#show samples of images\n",
        "def imshow(inp, title=None):\n",
        "    \"\"\"Display image for Tensor.\"\"\"\n",
        "    inp = inp.numpy().transpose((1, 2, 0))\n",
        "    plt.imshow(inp)\n",
        "    if title is not None:\n",
        "        plt.title(title)\n",
        "    plt.pause(0.001)  # pause a bit so that plots are updated\n",
        "\n",
        "\n",
        "train_loader_for_vis = DataLoader(train_subset, batch_size=5, shuffle=True, num_workers=0)\n",
        "inputs, classes = next(iter(train_loader_for_vis))\n",
        "\n",
        "out = torchvision.utils.make_grid(inputs)\n",
        "\n",
        "class_names = ['glioma_tumor', 'meningioma_tumor', 'no_tumor', 'pituitary_tumor']\n",
        "\n",
        "imshow(out, title=[class_names[x] for x in classes])\n",
        "\n"
      ]
    },
    {
      "cell_type": "code",
      "execution_count": null,
      "metadata": {
        "id": "d5refsUm0Zae"
      },
      "outputs": [],
      "source": []
    },
    {
      "cell_type": "markdown",
      "metadata": {
        "id": "C7voxIWvLZgI"
      },
      "source": []
    },
    {
      "cell_type": "code",
      "execution_count": null,
      "metadata": {
        "colab": {
          "base_uri": "https://localhost:8080/"
        },
        "id": "hl6G9YJFiKOw",
        "outputId": "440bc52e-b3b8-4fed-95eb-5a459a985ed2"
      },
      "outputs": [
        {
          "output_type": "stream",
          "name": "stdout",
          "text": [
            "['glioma_tumor', 'meningioma_tumor', 'no_tumor', 'pituitary_tumor']\n",
            "4\n"
          ]
        }
      ],
      "source": [
        "class_names=train_dataset.classes\n",
        "print(class_names)\n",
        "print(len(class_names))"
      ]
    },
    {
      "cell_type": "markdown",
      "source": [
        "### **2) CNN model**\n",
        "\n"
      ],
      "metadata": {
        "id": "PpYjDN-wQF07"
      }
    },
    {
      "cell_type": "code",
      "execution_count": null,
      "metadata": {
        "id": "aEFoIN2v0I7E"
      },
      "outputs": [],
      "source": [
        "import torch.nn as nn\n",
        "\n",
        "#model definition\n",
        "class MyCNN(nn.Module):\n",
        "\n",
        " # Convolution Neural network for brain tumour classification\n",
        " # Three convoltion layers, each followed by a ReLU layer and Max pooling layer\n",
        "\n",
        "\n",
        "    def __init__(self):\n",
        "        super(MyCNN, self).__init__()\n",
        "        self.cnn_layers = nn.Sequential(\n",
        "            nn.Conv2d(1, 64, kernel_size=3, stride=1, padding=1),\n",
        "            nn.ReLU(),\n",
        "            nn.MaxPool2d(2, 2),\n",
        "\n",
        "            nn.Conv2d(64, 128, kernel_size=3, stride=1, padding=1),\n",
        "            nn.ReLU(),\n",
        "            nn.MaxPool2d(2, 2),\n",
        "\n",
        "            nn.Conv2d(128, 256, kernel_size=3, stride=1, padding=1),\n",
        "            nn.ReLU(),\n",
        "            nn.MaxPool2d(4, 4)\n",
        "        )\n",
        "\n",
        "        self.fc_layers = nn.Sequential(\n",
        "            nn.Linear(256 * 14 * 14, 256),\n",
        "            nn.ReLU(),\n",
        "            nn.Linear(256, 256),\n",
        "            nn.ReLU(),\n",
        "            nn.Linear(256, 4)\n",
        "        )\n",
        "\n",
        "    def forward(self, x):\n",
        "        x = self.cnn_layers(x)\n",
        "        x = x.view(x.size(0), -1)  # Flatten the feature maps\n",
        "        x = self.fc_layers(x)\n",
        "        return x\n"
      ]
    },
    {
      "cell_type": "code",
      "execution_count": null,
      "metadata": {
        "id": "RyZPa3jEMTcd"
      },
      "outputs": [],
      "source": [
        "device = \"cuda\" if torch.cuda.is_available() else \"cpu\"\n",
        "\n",
        "model = MyCNN()\n",
        "model = model.to(device)"
      ]
    },
    {
      "cell_type": "code",
      "execution_count": null,
      "metadata": {
        "id": "aozpMTtvMUdM"
      },
      "outputs": [],
      "source": [
        "#define loss function and optimizer\n",
        "criterion = nn.CrossEntropyLoss()\n",
        "optimizer = torch.optim.Adam(model.parameters(), lr = 0.0003)\n"
      ]
    },
    {
      "cell_type": "code",
      "execution_count": null,
      "metadata": {
        "colab": {
          "base_uri": "https://localhost:8080/"
        },
        "id": "pzHuHflGMyet",
        "outputId": "b80eb966-d65d-415c-832c-f862a7a9137f"
      },
      "outputs": [
        {
          "name": "stderr",
          "output_type": "stream",
          "text": [
            "100%|██████████| 130/130 [00:41<00:00,  3.16it/s]\n",
            "100%|██████████| 15/15 [00:02<00:00,  5.99it/s]\n"
          ]
        },
        {
          "name": "stdout",
          "output_type": "stream",
          "text": [
            "[Epoch: 001/005] Train: loss=1.06454, acc=0.50974 | Valid: loss=0.89326, acc=0.58762\n"
          ]
        },
        {
          "name": "stderr",
          "output_type": "stream",
          "text": [
            "100%|██████████| 130/130 [00:30<00:00,  4.29it/s]\n",
            "100%|██████████| 15/15 [00:02<00:00,  6.02it/s]\n"
          ]
        },
        {
          "name": "stdout",
          "output_type": "stream",
          "text": [
            "[Epoch: 002/005] Train: loss=0.87620, acc=0.61654 | Valid: loss=0.74471, acc=0.69762\n"
          ]
        },
        {
          "name": "stderr",
          "output_type": "stream",
          "text": [
            "100%|██████████| 130/130 [00:31<00:00,  4.15it/s]\n",
            "100%|██████████| 15/15 [00:02<00:00,  5.93it/s]\n"
          ]
        },
        {
          "name": "stdout",
          "output_type": "stream",
          "text": [
            "[Epoch: 003/005] Train: loss=0.76427, acc=0.65538 | Valid: loss=0.71202, acc=0.71095\n"
          ]
        },
        {
          "name": "stderr",
          "output_type": "stream",
          "text": [
            "100%|██████████| 130/130 [00:29<00:00,  4.34it/s]\n",
            "100%|██████████| 15/15 [00:03<00:00,  4.88it/s]\n"
          ]
        },
        {
          "name": "stdout",
          "output_type": "stream",
          "text": [
            "[Epoch: 004/005] Train: loss=0.72575, acc=0.66705 | Valid: loss=0.71236, acc=0.68286\n"
          ]
        },
        {
          "name": "stderr",
          "output_type": "stream",
          "text": [
            "100%|██████████| 130/130 [00:29<00:00,  4.35it/s]\n",
            "100%|██████████| 15/15 [00:02<00:00,  6.10it/s]\n"
          ]
        },
        {
          "name": "stdout",
          "output_type": "stream",
          "text": [
            "[Epoch: 005/005] Train: loss=0.68557, acc=0.69410 | Valid: loss=0.61161, acc=0.73429\n"
          ]
        }
      ],
      "source": [
        "\n",
        "#model training\n",
        "import torch\n",
        "import torch.nn as nn\n",
        "from tqdm import tqdm\n",
        "\n",
        "n_epochs = 60\n",
        "best_valid_acc = 0\n",
        "train_loss_epochs = []\n",
        "train_acc_epochs = []\n",
        "valid_loss_epochs = []\n",
        "valid_acc_epochs = []\n",
        "\n",
        "for epoch in range(n_epochs):\n",
        "    model.train()\n",
        "    train_loss = []\n",
        "    train_accs = []\n",
        "\n",
        "    for batch in tqdm(train_loader):\n",
        "        optimizer.zero_grad()\n",
        "        imgs, labels = batch\n",
        "        imgs = imgs.to(device)\n",
        "        labels = labels.to(device)\n",
        "\n",
        "        # Ensure input images have a single channel\n",
        "        imgs = imgs[:, :1, :, :]\n",
        "\n",
        "        logits = model(imgs)\n",
        "        loss = criterion(logits, labels)\n",
        "        loss.backward()\n",
        "        optimizer.step()\n",
        "\n",
        "        acc = (logits.argmax(dim=-1) == labels).float().mean()\n",
        "        train_loss.append(loss.item())\n",
        "        train_accs.append(acc.item())\n",
        "\n",
        "    train_loss = sum(train_loss) / len(train_loss)\n",
        "    train_acc = sum(train_accs) / len(train_accs)\n",
        "    train_loss_epochs.append(train_loss)\n",
        "    train_acc_epochs.append(train_acc)\n",
        "\n",
        "#evaluation\n",
        "    model.eval()\n",
        "    valid_loss = []\n",
        "    valid_accs = []\n",
        "\n",
        "    for batch in tqdm(valid_loader):\n",
        "        imgs, labels = batch\n",
        "        imgs = imgs.to(device)\n",
        "        labels = labels.to(device)\n",
        "\n",
        "\n",
        "        imgs = imgs[:, :1, :, :]\n",
        "\n",
        "        with torch.no_grad():\n",
        "            logits = model(imgs)\n",
        "\n",
        "        loss = criterion(logits, labels)\n",
        "        acc = (logits.argmax(dim=-1) == labels).float().mean()\n",
        "\n",
        "        valid_loss.append(loss.item())\n",
        "        valid_accs.append(acc.item())\n",
        "\n",
        "    valid_loss = sum(valid_loss) / len(valid_loss)\n",
        "    valid_acc = sum(valid_accs) / len(valid_accs)\n",
        "    valid_loss_epochs.append(valid_loss)\n",
        "    valid_acc_epochs.append(valid_acc)\n",
        "\n",
        "    if valid_acc > best_valid_acc:\n",
        "        best_valid_acc = valid_acc\n",
        "        torch.save(model.state_dict(), 'best_model.pth')\n",
        "\n",
        "    print(f\"[Epoch: {epoch + 1:03d}/{n_epochs:03d}] Train: loss={train_loss:.5f}, acc={train_acc:.5f} | Valid: loss={valid_loss:.5f}, acc={valid_acc:.5f}\")\n"
      ]
    },
    {
      "cell_type": "markdown",
      "source": [
        "### **3) CNN Model Evaluation**"
      ],
      "metadata": {
        "id": "eOIDqnQHTKBb"
      }
    },
    {
      "cell_type": "code",
      "execution_count": null,
      "metadata": {
        "colab": {
          "base_uri": "https://localhost:8080/"
        },
        "id": "fQ6eOFMj30vV",
        "outputId": "9d6dbf70-ad78-4faf-c6be-442cb506f88f"
      },
      "outputs": [
        {
          "data": {
            "image/png": "[encoded data removed]",
            "text/plain": [
              "<Figure size 640x480 with 1 Axes>"
            ]
          },
          "metadata": {},
          "output_type": "display_data"
        },
        {
          "data": {
            "image/png": "[encoded data removed]",
            "text/plain": [
              "<Figure size 640x480 with 1 Axes>"
            ]
          },
          "metadata": {},
          "output_type": "display_data"
        }
      ],
      "source": [
        "#plot training and evaluation loss\n",
        "plt.figure()\n",
        "plt.plot(train_loss_epochs, label = \"Train Loss\")\n",
        "plt.plot(valid_loss_epochs, label = \"Validation Loss\")\n",
        "plt.xlabel(\"Epochs\")\n",
        "plt.ylabel(\"Loss\")\n",
        "plt.title(\"Train and Validation Loss\")\n",
        "plt.legend()\n",
        "plt.show()\n",
        "#plot training and evaluation accuracy\n",
        "plt.figure()\n",
        "plt.plot(train_acc_epochs, label = \"Train Accuracy\")\n",
        "plt.plot(valid_acc_epochs, label = \"Validation Accuracy\")\n",
        "plt.xlabel(\"Epochs\")\n",
        "plt.ylabel(\"Accuracy\")\n",
        "plt.title(\"Train and Validation Accuracy\")\n",
        "plt.legend()\n",
        "plt.show()"
      ]
    },
    {
      "cell_type": "code",
      "execution_count": null,
      "metadata": {
        "id": "z6bsxrGOho-K"
      },
      "outputs": [],
      "source": []
    },
    {
      "cell_type": "code",
      "execution_count": null,
      "metadata": {
        "id": "S4qW_lL0jqjp"
      },
      "outputs": [],
      "source": []
    },
    {
      "cell_type": "code",
      "execution_count": null,
      "metadata": {
        "colab": {
          "base_uri": "https://localhost:8080/",
          "height": 564
        },
        "id": "WXJuwiUJNir6",
        "outputId": "3cfb8932-a976-411f-ff67-7fb1e4d7623b"
      },
      "outputs": [
        {
          "data": {
            "image/png": "[encoded data removed]",
            "text/plain": [
              "<Figure size 800x600 with 2 Axes>"
            ]
          },
          "metadata": {},
          "output_type": "display_data"
        }
      ],
      "source": [
        "#plot confusion matrix\n",
        "from sklearn.metrics import confusion_matrix\n",
        "import matplotlib.pyplot as plt\n",
        "import seaborn as sns\n",
        "\n",
        "class_labels = []\n",
        "y_pred_classes = []\n",
        "\n",
        "for batch in test_loader:\n",
        "    imgs, labels = batch\n",
        "    imgs_gray = torch.mean(imgs, dim=1, keepdim=True)\n",
        "    imgs_gray = imgs_gray.to(device)\n",
        "    labels = labels.to(device)\n",
        "    with torch.no_grad():\n",
        "        logits = model(imgs_gray)\n",
        "    pred_classes = logits.argmax(dim=-1)\n",
        "    class_labels.extend(labels.cpu().numpy())\n",
        "    y_pred_classes.extend(pred_classes.cpu().numpy())\n",
        "\n",
        "conf_matrix = confusion_matrix(class_labels, y_pred_classes)\n",
        "plt.figure(figsize=(8, 6))\n",
        "sns.heatmap(conf_matrix, annot=True, fmt='d', cmap='Blues', xticklabels=class_names, yticklabels=class_names)\n",
        "plt.xlabel('Predicted Labels')\n",
        "plt.ylabel('True Labels')\n",
        "plt.title('Confusion Matrix')\n",
        "plt.show()\n",
        "\n"
      ]
    },
    {
      "cell_type": "markdown",
      "source": [
        "### **4) AlexNet model**"
      ],
      "metadata": {
        "id": "Ufs4VFNdTuoZ"
      }
    },
    {
      "cell_type": "code",
      "execution_count": null,
      "metadata": {
        "id": "aLtTsJZCSq_o",
        "colab": {
          "base_uri": "https://localhost:8080/"
        },
        "outputId": "cbc9eac6-9f50-4786-d7d4-76b1a53abb4c"
      },
      "outputs": [
        {
          "output_type": "stream",
          "name": "stderr",
          "text": [
            "Downloading: \"https://download.pytorch.org/models/alexnet-owt-7be5be79.pth\" to /root/.cache/torch/hub/checkpoints/alexnet-owt-7be5be79.pth\n",
            "100%|██████████| 233M/233M [00:02<00:00, 87.6MB/s]\n"
          ]
        }
      ],
      "source": [
        "import torch\n",
        "import torch.nn as nn\n",
        "import torchvision.models as models\n",
        "\n",
        "#import alexnet model, altering it to take in 1 channel due to black and white images, and have an output of 4 due to 4 classifications.\n",
        "alexnet_model = models.alexnet(pretrained=True)\n",
        "\n",
        "alexnet_model.features[0] = nn.Conv2d(1, 64, kernel_size=11, stride=4, padding=2)\n",
        "\n",
        "alexnet_model.classifier[6] = nn.Linear(alexnet_model.classifier[6].in_features, 4)\n",
        "\n",
        "for param in alexnet_model.features.parameters():\n",
        "    param.requires_grad = False\n",
        "\n",
        "optimizer = torch.optim.Adam(alexnet_model.parameters(), lr=0.0003)\n",
        "\n",
        "device = \"cuda\" if torch.cuda.is_available() else \"cpu\"\n",
        "\n",
        "model = alexnet_model.to(device)\n",
        "\n"
      ]
    },
    {
      "cell_type": "markdown",
      "source": [],
      "metadata": {
        "id": "avracCb-Tr3E"
      }
    },
    {
      "cell_type": "code",
      "execution_count": null,
      "metadata": {
        "colab": {
          "base_uri": "https://localhost:8080/"
        },
        "id": "3Ewb8b4qSsR3",
        "outputId": "36bccc5c-379d-4759-a7e1-f0f11c4b0d2d"
      },
      "outputs": [
        {
          "metadata": {
            "tags": null
          },
          "name": "stderr",
          "output_type": "stream",
          "text": [
            "100%|██████████| 130/130 [00:29<00:00,  4.44it/s]\n",
            "100%|██████████| 15/15 [00:02<00:00,  6.88it/s]\n"
          ]
        },
        {
          "metadata": {
            "tags": null
          },
          "name": "stdout",
          "output_type": "stream",
          "text": [
            "[Epoch: 001/100] Train: loss=1.12733, acc=0.49282 | Valid: loss=0.92737, acc=0.60476\n"
          ]
        },
        {
          "metadata": {
            "tags": null
          },
          "name": "stderr",
          "output_type": "stream",
          "text": [
            "100%|██████████| 130/130 [00:23<00:00,  5.43it/s]\n",
            "100%|██████████| 15/15 [00:02<00:00,  6.79it/s]\n"
          ]
        },
        {
          "metadata": {
            "tags": null
          },
          "name": "stdout",
          "output_type": "stream",
          "text": [
            "[Epoch: 002/100] Train: loss=0.97707, acc=0.55936 | Valid: loss=0.90234, acc=0.60429\n"
          ]
        },
        {
          "metadata": {
            "tags": null
          },
          "name": "stderr",
          "output_type": "stream",
          "text": [
            "100%|██████████| 130/130 [00:23<00:00,  5.45it/s]\n",
            "100%|██████████| 15/15 [00:02<00:00,  6.47it/s]\n"
          ]
        },
        {
          "metadata": {
            "tags": null
          },
          "name": "stdout",
          "output_type": "stream",
          "text": [
            "[Epoch: 003/100] Train: loss=0.91303, acc=0.59846 | Valid: loss=0.86881, acc=0.60905\n"
          ]
        },
        {
          "metadata": {
            "tags": null
          },
          "name": "stderr",
          "output_type": "stream",
          "text": [
            "100%|██████████| 130/130 [00:25<00:00,  5.07it/s]\n",
            "100%|██████████| 15/15 [00:02<00:00,  5.83it/s]\n"
          ]
        },
        {
          "metadata": {
            "tags": null
          },
          "name": "stdout",
          "output_type": "stream",
          "text": [
            "[Epoch: 004/100] Train: loss=0.87962, acc=0.60577 | Valid: loss=0.86647, acc=0.61476\n"
          ]
        },
        {
          "metadata": {
            "tags": null
          },
          "name": "stderr",
          "output_type": "stream",
          "text": [
            "100%|██████████| 130/130 [00:23<00:00,  5.44it/s]\n",
            "100%|██████████| 15/15 [00:02<00:00,  6.78it/s]\n"
          ]
        },
        {
          "metadata": {
            "tags": null
          },
          "name": "stdout",
          "output_type": "stream",
          "text": [
            "[Epoch: 005/100] Train: loss=0.86165, acc=0.60321 | Valid: loss=0.84207, acc=0.64143\n"
          ]
        },
        {
          "metadata": {
            "tags": null
          },
          "name": "stderr",
          "output_type": "stream",
          "text": [
            "100%|██████████| 130/130 [00:23<00:00,  5.47it/s]\n",
            "100%|██████████| 15/15 [00:02<00:00,  6.62it/s]\n"
          ]
        },
        {
          "metadata": {
            "tags": null
          },
          "name": "stdout",
          "output_type": "stream",
          "text": [
            "[Epoch: 006/100] Train: loss=0.86422, acc=0.60641 | Valid: loss=0.78760, acc=0.65762\n"
          ]
        },
        {
          "metadata": {
            "tags": null
          },
          "name": "stderr",
          "output_type": "stream",
          "text": [
            "100%|██████████| 130/130 [00:23<00:00,  5.44it/s]\n",
            "100%|██████████| 15/15 [00:02<00:00,  6.70it/s]\n"
          ]
        },
        {
          "metadata": {
            "tags": null
          },
          "name": "stdout",
          "output_type": "stream",
          "text": [
            "[Epoch: 007/100] Train: loss=0.85245, acc=0.61115 | Valid: loss=0.83516, acc=0.63381\n"
          ]
        },
        {
          "metadata": {
            "tags": null
          },
          "name": "stderr",
          "output_type": "stream",
          "text": [
            "100%|██████████| 130/130 [00:23<00:00,  5.42it/s]\n",
            "100%|██████████| 15/15 [00:02<00:00,  6.70it/s]\n"
          ]
        },
        {
          "metadata": {
            "tags": null
          },
          "name": "stdout",
          "output_type": "stream",
          "text": [
            "[Epoch: 008/100] Train: loss=0.82380, acc=0.62808 | Valid: loss=0.77623, acc=0.64810\n"
          ]
        },
        {
          "metadata": {
            "tags": null
          },
          "name": "stderr",
          "output_type": "stream",
          "text": [
            "100%|██████████| 130/130 [00:24<00:00,  5.37it/s]\n",
            "100%|██████████| 15/15 [00:02<00:00,  6.78it/s]\n"
          ]
        },
        {
          "metadata": {
            "tags": null
          },
          "name": "stdout",
          "output_type": "stream",
          "text": [
            "[Epoch: 009/100] Train: loss=0.82033, acc=0.63551 | Valid: loss=0.85871, acc=0.61143\n"
          ]
        },
        {
          "metadata": {
            "tags": null
          },
          "name": "stderr",
          "output_type": "stream",
          "text": [
            "100%|██████████| 130/130 [00:24<00:00,  5.41it/s]\n",
            "100%|██████████| 15/15 [00:02<00:00,  6.76it/s]\n"
          ]
        },
        {
          "metadata": {
            "tags": null
          },
          "name": "stdout",
          "output_type": "stream",
          "text": [
            "[Epoch: 010/100] Train: loss=0.81321, acc=0.63782 | Valid: loss=0.74211, acc=0.69810\n"
          ]
        },
        {
          "metadata": {
            "tags": null
          },
          "name": "stderr",
          "output_type": "stream",
          "text": [
            "100%|██████████| 130/130 [00:23<00:00,  5.42it/s]\n",
            "100%|██████████| 15/15 [00:02<00:00,  6.64it/s]\n"
          ]
        },
        {
          "metadata": {
            "tags": null
          },
          "name": "stdout",
          "output_type": "stream",
          "text": [
            "[Epoch: 011/100] Train: loss=0.80641, acc=0.64692 | Valid: loss=0.75840, acc=0.66714\n"
          ]
        },
        {
          "metadata": {
            "tags": null
          },
          "name": "stderr",
          "output_type": "stream",
          "text": [
            "100%|██████████| 130/130 [00:24<00:00,  5.41it/s]\n",
            "100%|██████████| 15/15 [00:02<00:00,  5.64it/s]\n"
          ]
        },
        {
          "metadata": {
            "tags": null
          },
          "name": "stdout",
          "output_type": "stream",
          "text": [
            "[Epoch: 012/100] Train: loss=0.80438, acc=0.64372 | Valid: loss=0.66856, acc=0.69810\n"
          ]
        },
        {
          "metadata": {
            "tags": null
          },
          "name": "stderr",
          "output_type": "stream",
          "text": [
            "100%|██████████| 130/130 [00:23<00:00,  5.50it/s]\n",
            "100%|██████████| 15/15 [00:03<00:00,  4.96it/s]\n"
          ]
        },
        {
          "metadata": {
            "tags": null
          },
          "name": "stdout",
          "output_type": "stream",
          "text": [
            "[Epoch: 013/100] Train: loss=0.80367, acc=0.63936 | Valid: loss=0.71717, acc=0.67667\n"
          ]
        },
        {
          "metadata": {
            "tags": null
          },
          "name": "stderr",
          "output_type": "stream",
          "text": [
            "100%|██████████| 130/130 [00:23<00:00,  5.48it/s]\n",
            "100%|██████████| 15/15 [00:02<00:00,  5.80it/s]\n"
          ]
        },
        {
          "metadata": {
            "tags": null
          },
          "name": "stdout",
          "output_type": "stream",
          "text": [
            "[Epoch: 014/100] Train: loss=0.76783, acc=0.64436 | Valid: loss=0.75039, acc=0.66143\n"
          ]
        },
        {
          "metadata": {
            "tags": null
          },
          "name": "stderr",
          "output_type": "stream",
          "text": [
            "100%|██████████| 130/130 [00:24<00:00,  5.41it/s]\n",
            "100%|██████████| 15/15 [00:02<00:00,  6.99it/s]\n"
          ]
        },
        {
          "metadata": {
            "tags": null
          },
          "name": "stdout",
          "output_type": "stream",
          "text": [
            "[Epoch: 015/100] Train: loss=0.76868, acc=0.64936 | Valid: loss=0.73685, acc=0.67429\n"
          ]
        },
        {
          "metadata": {
            "tags": null
          },
          "name": "stderr",
          "output_type": "stream",
          "text": [
            "100%|██████████| 130/130 [00:23<00:00,  5.42it/s]\n",
            "100%|██████████| 15/15 [00:02<00:00,  6.96it/s]\n"
          ]
        },
        {
          "metadata": {
            "tags": null
          },
          "name": "stdout",
          "output_type": "stream",
          "text": [
            "[Epoch: 016/100] Train: loss=0.76026, acc=0.65923 | Valid: loss=0.70567, acc=0.69714\n"
          ]
        },
        {
          "metadata": {
            "tags": null
          },
          "name": "stderr",
          "output_type": "stream",
          "text": [
            "100%|██████████| 130/130 [00:23<00:00,  5.46it/s]\n",
            "100%|██████████| 15/15 [00:02<00:00,  6.81it/s]\n"
          ]
        },
        {
          "metadata": {
            "tags": null
          },
          "name": "stdout",
          "output_type": "stream",
          "text": [
            "[Epoch: 017/100] Train: loss=0.74502, acc=0.66705 | Valid: loss=0.75519, acc=0.61429\n"
          ]
        },
        {
          "metadata": {
            "tags": null
          },
          "name": "stderr",
          "output_type": "stream",
          "text": [
            "100%|██████████| 130/130 [00:23<00:00,  5.45it/s]\n",
            "100%|██████████| 15/15 [00:02<00:00,  6.82it/s]\n"
          ]
        },
        {
          "metadata": {
            "tags": null
          },
          "name": "stdout",
          "output_type": "stream",
          "text": [
            "[Epoch: 018/100] Train: loss=0.76179, acc=0.66231 | Valid: loss=0.69300, acc=0.65476\n"
          ]
        },
        {
          "metadata": {
            "tags": null
          },
          "name": "stderr",
          "output_type": "stream",
          "text": [
            "100%|██████████| 130/130 [00:23<00:00,  5.47it/s]\n",
            "100%|██████████| 15/15 [00:02<00:00,  6.90it/s]\n"
          ]
        },
        {
          "metadata": {
            "tags": null
          },
          "name": "stdout",
          "output_type": "stream",
          "text": [
            "[Epoch: 019/100] Train: loss=0.74199, acc=0.67462 | Valid: loss=0.69992, acc=0.68524\n"
          ]
        },
        {
          "metadata": {
            "tags": null
          },
          "name": "stderr",
          "output_type": "stream",
          "text": [
            "100%|██████████| 130/130 [00:23<00:00,  5.44it/s]\n",
            "100%|██████████| 15/15 [00:02<00:00,  6.79it/s]\n"
          ]
        },
        {
          "metadata": {
            "tags": null
          },
          "name": "stdout",
          "output_type": "stream",
          "text": [
            "[Epoch: 020/100] Train: loss=0.73756, acc=0.67808 | Valid: loss=0.65191, acc=0.70762\n"
          ]
        },
        {
          "metadata": {
            "tags": null
          },
          "name": "stderr",
          "output_type": "stream",
          "text": [
            "100%|██████████| 130/130 [00:24<00:00,  5.39it/s]\n",
            "100%|██████████| 15/15 [00:02<00:00,  6.80it/s]\n"
          ]
        },
        {
          "metadata": {
            "tags": null
          },
          "name": "stdout",
          "output_type": "stream",
          "text": [
            "[Epoch: 021/100] Train: loss=0.74132, acc=0.67167 | Valid: loss=0.70930, acc=0.68667\n"
          ]
        },
        {
          "metadata": {
            "tags": null
          },
          "name": "stderr",
          "output_type": "stream",
          "text": [
            "100%|██████████| 130/130 [00:23<00:00,  5.45it/s]\n",
            "100%|██████████| 15/15 [00:02<00:00,  6.96it/s]\n"
          ]
        },
        {
          "metadata": {
            "tags": null
          },
          "name": "stdout",
          "output_type": "stream",
          "text": [
            "[Epoch: 022/100] Train: loss=0.73752, acc=0.69436 | Valid: loss=0.71032, acc=0.69143\n"
          ]
        },
        {
          "metadata": {
            "tags": null
          },
          "name": "stderr",
          "output_type": "stream",
          "text": [
            "100%|██████████| 130/130 [00:23<00:00,  5.45it/s]\n",
            "100%|██████████| 15/15 [00:02<00:00,  6.89it/s]\n"
          ]
        },
        {
          "metadata": {
            "tags": null
          },
          "name": "stdout",
          "output_type": "stream",
          "text": [
            "[Epoch: 023/100] Train: loss=0.72851, acc=0.65603 | Valid: loss=0.66107, acc=0.70190\n"
          ]
        },
        {
          "metadata": {
            "tags": null
          },
          "name": "stderr",
          "output_type": "stream",
          "text": [
            "100%|██████████| 130/130 [00:23<00:00,  5.49it/s]\n",
            "100%|██████████| 15/15 [00:02<00:00,  6.13it/s]\n"
          ]
        },
        {
          "metadata": {
            "tags": null
          },
          "name": "stdout",
          "output_type": "stream",
          "text": [
            "[Epoch: 024/100] Train: loss=0.73823, acc=0.67500 | Valid: loss=0.64622, acc=0.71143\n"
          ]
        },
        {
          "metadata": {
            "tags": null
          },
          "name": "stderr",
          "output_type": "stream",
          "text": [
            "100%|██████████| 130/130 [00:23<00:00,  5.61it/s]\n",
            "100%|██████████| 15/15 [00:02<00:00,  5.08it/s]\n"
          ]
        },
        {
          "metadata": {
            "tags": null
          },
          "name": "stdout",
          "output_type": "stream",
          "text": [
            "[Epoch: 025/100] Train: loss=0.71216, acc=0.68808 | Valid: loss=0.66706, acc=0.73762\n"
          ]
        },
        {
          "metadata": {
            "tags": null
          },
          "name": "stderr",
          "output_type": "stream",
          "text": [
            "100%|██████████| 130/130 [00:23<00:00,  5.58it/s]\n",
            "100%|██████████| 15/15 [00:02<00:00,  5.54it/s]\n"
          ]
        },
        {
          "metadata": {
            "tags": null
          },
          "name": "stdout",
          "output_type": "stream",
          "text": [
            "[Epoch: 026/100] Train: loss=0.72475, acc=0.67179 | Valid: loss=0.68716, acc=0.68095\n"
          ]
        },
        {
          "metadata": {
            "tags": null
          },
          "name": "stderr",
          "output_type": "stream",
          "text": [
            "100%|██████████| 130/130 [00:23<00:00,  5.44it/s]\n",
            "100%|██████████| 15/15 [00:02<00:00,  6.73it/s]\n"
          ]
        },
        {
          "metadata": {
            "tags": null
          },
          "name": "stdout",
          "output_type": "stream",
          "text": [
            "[Epoch: 027/100] Train: loss=0.70762, acc=0.69154 | Valid: loss=0.69470, acc=0.66810\n"
          ]
        },
        {
          "metadata": {
            "tags": null
          },
          "name": "stderr",
          "output_type": "stream",
          "text": [
            "100%|██████████| 130/130 [00:23<00:00,  5.45it/s]\n",
            "100%|██████████| 15/15 [00:02<00:00,  6.66it/s]\n"
          ]
        },
        {
          "metadata": {
            "tags": null
          },
          "name": "stdout",
          "output_type": "stream",
          "text": [
            "[Epoch: 028/100] Train: loss=0.71074, acc=0.69244 | Valid: loss=0.67127, acc=0.71143\n"
          ]
        },
        {
          "metadata": {
            "tags": null
          },
          "name": "stderr",
          "output_type": "stream",
          "text": [
            "100%|██████████| 130/130 [00:23<00:00,  5.45it/s]\n",
            "100%|██████████| 15/15 [00:02<00:00,  6.87it/s]\n"
          ]
        },
        {
          "metadata": {
            "tags": null
          },
          "name": "stdout",
          "output_type": "stream",
          "text": [
            "[Epoch: 029/100] Train: loss=0.71514, acc=0.68731 | Valid: loss=0.66556, acc=0.70762\n"
          ]
        },
        {
          "metadata": {
            "tags": null
          },
          "name": "stderr",
          "output_type": "stream",
          "text": [
            "100%|██████████| 130/130 [00:23<00:00,  5.46it/s]\n",
            "100%|██████████| 15/15 [00:02<00:00,  6.85it/s]\n"
          ]
        },
        {
          "metadata": {
            "tags": null
          },
          "name": "stdout",
          "output_type": "stream",
          "text": [
            "[Epoch: 030/100] Train: loss=0.71995, acc=0.68321 | Valid: loss=0.61559, acc=0.73381\n"
          ]
        },
        {
          "metadata": {
            "tags": null
          },
          "name": "stderr",
          "output_type": "stream",
          "text": [
            "100%|██████████| 130/130 [00:23<00:00,  5.48it/s]\n",
            "100%|██████████| 15/15 [00:02<00:00,  6.98it/s]\n"
          ]
        },
        {
          "metadata": {
            "tags": null
          },
          "name": "stdout",
          "output_type": "stream",
          "text": [
            "[Epoch: 031/100] Train: loss=0.69523, acc=0.67821 | Valid: loss=0.68604, acc=0.69524\n"
          ]
        },
        {
          "metadata": {
            "tags": null
          },
          "name": "stderr",
          "output_type": "stream",
          "text": [
            "100%|██████████| 130/130 [00:23<00:00,  5.49it/s]\n",
            "100%|██████████| 15/15 [00:02<00:00,  6.81it/s]\n"
          ]
        },
        {
          "metadata": {
            "tags": null
          },
          "name": "stdout",
          "output_type": "stream",
          "text": [
            "[Epoch: 032/100] Train: loss=0.70992, acc=0.69192 | Valid: loss=0.67506, acc=0.68762\n"
          ]
        },
        {
          "metadata": {
            "tags": null
          },
          "name": "stderr",
          "output_type": "stream",
          "text": [
            "100%|██████████| 130/130 [00:23<00:00,  5.42it/s]\n",
            "100%|██████████| 15/15 [00:02<00:00,  6.81it/s]\n"
          ]
        },
        {
          "metadata": {
            "tags": null
          },
          "name": "stdout",
          "output_type": "stream",
          "text": [
            "[Epoch: 033/100] Train: loss=0.69423, acc=0.69808 | Valid: loss=0.69710, acc=0.70714\n"
          ]
        },
        {
          "metadata": {
            "tags": null
          },
          "name": "stderr",
          "output_type": "stream",
          "text": [
            "100%|██████████| 130/130 [00:23<00:00,  5.49it/s]\n",
            "100%|██████████| 15/15 [00:02<00:00,  6.88it/s]\n"
          ]
        },
        {
          "metadata": {
            "tags": null
          },
          "name": "stdout",
          "output_type": "stream",
          "text": [
            "[Epoch: 034/100] Train: loss=0.68473, acc=0.68538 | Valid: loss=0.66292, acc=0.72048\n"
          ]
        },
        {
          "metadata": {
            "tags": null
          },
          "name": "stderr",
          "output_type": "stream",
          "text": [
            "100%|██████████| 130/130 [00:23<00:00,  5.49it/s]\n",
            "100%|██████████| 15/15 [00:02<00:00,  6.75it/s]\n"
          ]
        },
        {
          "metadata": {
            "tags": null
          },
          "name": "stdout",
          "output_type": "stream",
          "text": [
            "[Epoch: 035/100] Train: loss=0.68761, acc=0.69167 | Valid: loss=0.60759, acc=0.72429\n"
          ]
        },
        {
          "metadata": {
            "tags": null
          },
          "name": "stderr",
          "output_type": "stream",
          "text": [
            "100%|██████████| 130/130 [00:23<00:00,  5.47it/s]\n",
            "100%|██████████| 15/15 [00:02<00:00,  6.93it/s]\n"
          ]
        },
        {
          "metadata": {
            "tags": null
          },
          "name": "stdout",
          "output_type": "stream",
          "text": [
            "[Epoch: 036/100] Train: loss=0.67399, acc=0.70962 | Valid: loss=0.63507, acc=0.72095\n"
          ]
        },
        {
          "metadata": {
            "tags": null
          },
          "name": "stderr",
          "output_type": "stream",
          "text": [
            "100%|██████████| 130/130 [00:23<00:00,  5.50it/s]\n",
            "100%|██████████| 15/15 [00:02<00:00,  6.99it/s]\n"
          ]
        },
        {
          "metadata": {
            "tags": null
          },
          "name": "stdout",
          "output_type": "stream",
          "text": [
            "[Epoch: 037/100] Train: loss=0.67946, acc=0.69679 | Valid: loss=0.60876, acc=0.73810\n"
          ]
        },
        {
          "metadata": {
            "tags": null
          },
          "name": "stderr",
          "output_type": "stream",
          "text": [
            "100%|██████████| 130/130 [00:23<00:00,  5.47it/s]\n",
            "100%|██████████| 15/15 [00:02<00:00,  6.07it/s]\n"
          ]
        },
        {
          "metadata": {
            "tags": null
          },
          "name": "stdout",
          "output_type": "stream",
          "text": [
            "[Epoch: 038/100] Train: loss=0.65774, acc=0.71385 | Valid: loss=0.61007, acc=0.72667\n"
          ]
        },
        {
          "metadata": {
            "tags": null
          },
          "name": "stderr",
          "output_type": "stream",
          "text": [
            "100%|██████████| 130/130 [00:23<00:00,  5.49it/s]\n",
            "100%|██████████| 15/15 [00:02<00:00,  5.14it/s]\n"
          ]
        },
        {
          "metadata": {
            "tags": null
          },
          "name": "stdout",
          "output_type": "stream",
          "text": [
            "[Epoch: 039/100] Train: loss=0.67547, acc=0.69846 | Valid: loss=0.63733, acc=0.71429\n"
          ]
        },
        {
          "metadata": {
            "tags": null
          },
          "name": "stderr",
          "output_type": "stream",
          "text": [
            "100%|██████████| 130/130 [00:23<00:00,  5.61it/s]\n",
            "100%|██████████| 15/15 [00:02<00:00,  5.27it/s]\n"
          ]
        },
        {
          "metadata": {
            "tags": null
          },
          "name": "stdout",
          "output_type": "stream",
          "text": [
            "[Epoch: 040/100] Train: loss=0.67592, acc=0.71423 | Valid: loss=0.60020, acc=0.70714\n"
          ]
        },
        {
          "metadata": {
            "tags": null
          },
          "name": "stderr",
          "output_type": "stream",
          "text": [
            "100%|██████████| 130/130 [00:23<00:00,  5.53it/s]\n",
            "100%|██████████| 15/15 [00:02<00:00,  5.85it/s]\n"
          ]
        },
        {
          "metadata": {
            "tags": null
          },
          "name": "stdout",
          "output_type": "stream",
          "text": [
            "[Epoch: 041/100] Train: loss=0.69700, acc=0.68987 | Valid: loss=0.59604, acc=0.77667\n"
          ]
        },
        {
          "metadata": {
            "tags": null
          },
          "name": "stderr",
          "output_type": "stream",
          "text": [
            "100%|██████████| 130/130 [00:24<00:00,  5.39it/s]\n",
            "100%|██████████| 15/15 [00:02<00:00,  6.71it/s]\n"
          ]
        },
        {
          "metadata": {
            "tags": null
          },
          "name": "stdout",
          "output_type": "stream",
          "text": [
            "[Epoch: 042/100] Train: loss=0.65613, acc=0.70936 | Valid: loss=0.59264, acc=0.73429\n"
          ]
        },
        {
          "metadata": {
            "tags": null
          },
          "name": "stderr",
          "output_type": "stream",
          "text": [
            "100%|██████████| 130/130 [00:23<00:00,  5.44it/s]\n",
            "100%|██████████| 15/15 [00:02<00:00,  6.83it/s]\n"
          ]
        },
        {
          "metadata": {
            "tags": null
          },
          "name": "stdout",
          "output_type": "stream",
          "text": [
            "[Epoch: 043/100] Train: loss=0.66617, acc=0.70756 | Valid: loss=0.60521, acc=0.76000\n"
          ]
        },
        {
          "metadata": {
            "tags": null
          },
          "name": "stderr",
          "output_type": "stream",
          "text": [
            "100%|██████████| 130/130 [00:23<00:00,  5.44it/s]\n",
            "100%|██████████| 15/15 [00:02<00:00,  6.80it/s]\n"
          ]
        },
        {
          "metadata": {
            "tags": null
          },
          "name": "stdout",
          "output_type": "stream",
          "text": [
            "[Epoch: 044/100] Train: loss=0.65860, acc=0.71641 | Valid: loss=0.57680, acc=0.74095\n"
          ]
        },
        {
          "metadata": {
            "tags": null
          },
          "name": "stderr",
          "output_type": "stream",
          "text": [
            "100%|██████████| 130/130 [00:24<00:00,  5.40it/s]\n",
            "100%|██████████| 15/15 [00:02<00:00,  6.80it/s]\n"
          ]
        },
        {
          "metadata": {
            "tags": null
          },
          "name": "stdout",
          "output_type": "stream",
          "text": [
            "[Epoch: 045/100] Train: loss=0.65577, acc=0.72013 | Valid: loss=0.63478, acc=0.72762\n"
          ]
        },
        {
          "metadata": {
            "tags": null
          },
          "name": "stderr",
          "output_type": "stream",
          "text": [
            "100%|██████████| 130/130 [00:23<00:00,  5.47it/s]\n",
            "100%|██████████| 15/15 [00:02<00:00,  6.92it/s]\n"
          ]
        },
        {
          "metadata": {
            "tags": null
          },
          "name": "stdout",
          "output_type": "stream",
          "text": [
            "[Epoch: 046/100] Train: loss=0.66152, acc=0.71769 | Valid: loss=0.63187, acc=0.71429\n"
          ]
        },
        {
          "metadata": {
            "tags": null
          },
          "name": "stderr",
          "output_type": "stream",
          "text": [
            "100%|██████████| 130/130 [00:23<00:00,  5.46it/s]\n",
            "100%|██████████| 15/15 [00:02<00:00,  6.92it/s]\n"
          ]
        },
        {
          "metadata": {
            "tags": null
          },
          "name": "stdout",
          "output_type": "stream",
          "text": [
            "[Epoch: 047/100] Train: loss=0.63079, acc=0.71308 | Valid: loss=0.60100, acc=0.75762\n"
          ]
        },
        {
          "metadata": {
            "tags": null
          },
          "name": "stderr",
          "output_type": "stream",
          "text": [
            "100%|██████████| 130/130 [00:23<00:00,  5.44it/s]\n",
            "100%|██████████| 15/15 [00:02<00:00,  6.85it/s]\n"
          ]
        },
        {
          "metadata": {
            "tags": null
          },
          "name": "stdout",
          "output_type": "stream",
          "text": [
            "[Epoch: 048/100] Train: loss=0.64059, acc=0.72000 | Valid: loss=0.59503, acc=0.73048\n"
          ]
        },
        {
          "metadata": {
            "tags": null
          },
          "name": "stderr",
          "output_type": "stream",
          "text": [
            "100%|██████████| 130/130 [00:23<00:00,  5.42it/s]\n",
            "100%|██████████| 15/15 [00:02<00:00,  6.74it/s]\n"
          ]
        },
        {
          "metadata": {
            "tags": null
          },
          "name": "stdout",
          "output_type": "stream",
          "text": [
            "[Epoch: 049/100] Train: loss=0.64759, acc=0.71590 | Valid: loss=0.59169, acc=0.74476\n"
          ]
        },
        {
          "metadata": {
            "tags": null
          },
          "name": "stderr",
          "output_type": "stream",
          "text": [
            "100%|██████████| 130/130 [00:23<00:00,  5.47it/s]\n",
            "100%|██████████| 15/15 [00:02<00:00,  6.82it/s]\n"
          ]
        },
        {
          "metadata": {
            "tags": null
          },
          "name": "stdout",
          "output_type": "stream",
          "text": [
            "[Epoch: 050/100] Train: loss=0.62485, acc=0.73321 | Valid: loss=0.57989, acc=0.76048\n"
          ]
        },
        {
          "metadata": {
            "tags": null
          },
          "name": "stderr",
          "output_type": "stream",
          "text": [
            "100%|██████████| 130/130 [00:23<00:00,  5.45it/s]\n",
            "100%|██████████| 15/15 [00:02<00:00,  6.62it/s]\n"
          ]
        },
        {
          "metadata": {
            "tags": null
          },
          "name": "stdout",
          "output_type": "stream",
          "text": [
            "[Epoch: 051/100] Train: loss=0.65474, acc=0.70936 | Valid: loss=0.61126, acc=0.73429\n"
          ]
        },
        {
          "metadata": {
            "tags": null
          },
          "name": "stderr",
          "output_type": "stream",
          "text": [
            "100%|██████████| 130/130 [00:23<00:00,  5.48it/s]\n",
            "100%|██████████| 15/15 [00:02<00:00,  5.69it/s]\n"
          ]
        },
        {
          "metadata": {
            "tags": null
          },
          "name": "stdout",
          "output_type": "stream",
          "text": [
            "[Epoch: 052/100] Train: loss=0.63122, acc=0.72436 | Valid: loss=0.58258, acc=0.75333\n"
          ]
        },
        {
          "metadata": {
            "tags": null
          },
          "name": "stderr",
          "output_type": "stream",
          "text": [
            "100%|██████████| 130/130 [00:23<00:00,  5.59it/s]\n",
            "100%|██████████| 15/15 [00:02<00:00,  5.19it/s]\n"
          ]
        },
        {
          "metadata": {
            "tags": null
          },
          "name": "stdout",
          "output_type": "stream",
          "text": [
            "[Epoch: 053/100] Train: loss=0.62872, acc=0.73269 | Valid: loss=0.60033, acc=0.74429\n"
          ]
        },
        {
          "metadata": {
            "tags": null
          },
          "name": "stderr",
          "output_type": "stream",
          "text": [
            "100%|██████████| 130/130 [00:22<00:00,  5.67it/s]\n",
            "100%|██████████| 15/15 [00:02<00:00,  5.44it/s]\n"
          ]
        },
        {
          "metadata": {
            "tags": null
          },
          "name": "stdout",
          "output_type": "stream",
          "text": [
            "[Epoch: 054/100] Train: loss=0.63755, acc=0.72385 | Valid: loss=0.60771, acc=0.73429\n"
          ]
        },
        {
          "metadata": {
            "tags": null
          },
          "name": "stderr",
          "output_type": "stream",
          "text": [
            "100%|██████████| 130/130 [00:22<00:00,  5.66it/s]\n",
            "100%|██████████| 15/15 [00:02<00:00,  5.80it/s]\n"
          ]
        },
        {
          "metadata": {
            "tags": null
          },
          "name": "stdout",
          "output_type": "stream",
          "text": [
            "[Epoch: 055/100] Train: loss=0.64574, acc=0.71731 | Valid: loss=0.57068, acc=0.73762\n"
          ]
        },
        {
          "metadata": {
            "tags": null
          },
          "name": "stderr",
          "output_type": "stream",
          "text": [
            "100%|██████████| 130/130 [00:23<00:00,  5.60it/s]\n",
            "100%|██████████| 15/15 [00:02<00:00,  6.56it/s]\n"
          ]
        },
        {
          "metadata": {
            "tags": null
          },
          "name": "stdout",
          "output_type": "stream",
          "text": [
            "[Epoch: 056/100] Train: loss=0.64538, acc=0.72205 | Valid: loss=0.61461, acc=0.74476\n"
          ]
        },
        {
          "metadata": {
            "tags": null
          },
          "name": "stderr",
          "output_type": "stream",
          "text": [
            "100%|██████████| 130/130 [00:23<00:00,  5.59it/s]\n",
            "100%|██████████| 15/15 [00:02<00:00,  6.80it/s]\n"
          ]
        },
        {
          "metadata": {
            "tags": null
          },
          "name": "stdout",
          "output_type": "stream",
          "text": [
            "[Epoch: 057/100] Train: loss=0.63937, acc=0.72615 | Valid: loss=0.57651, acc=0.76190\n"
          ]
        },
        {
          "metadata": {
            "tags": null
          },
          "name": "stderr",
          "output_type": "stream",
          "text": [
            "100%|██████████| 130/130 [00:23<00:00,  5.56it/s]\n",
            "100%|██████████| 15/15 [00:02<00:00,  6.94it/s]\n"
          ]
        },
        {
          "metadata": {
            "tags": null
          },
          "name": "stdout",
          "output_type": "stream",
          "text": [
            "[Epoch: 058/100] Train: loss=0.62719, acc=0.73436 | Valid: loss=0.58455, acc=0.75762\n"
          ]
        },
        {
          "metadata": {
            "tags": null
          },
          "name": "stderr",
          "output_type": "stream",
          "text": [
            "100%|██████████| 130/130 [00:23<00:00,  5.57it/s]\n",
            "100%|██████████| 15/15 [00:02<00:00,  7.00it/s]\n"
          ]
        },
        {
          "metadata": {
            "tags": null
          },
          "name": "stdout",
          "output_type": "stream",
          "text": [
            "[Epoch: 059/100] Train: loss=0.64329, acc=0.71744 | Valid: loss=0.52288, acc=0.77143\n"
          ]
        },
        {
          "metadata": {
            "tags": null
          },
          "name": "stderr",
          "output_type": "stream",
          "text": [
            "100%|██████████| 130/130 [00:23<00:00,  5.60it/s]\n",
            "100%|██████████| 15/15 [00:02<00:00,  7.02it/s]\n"
          ]
        },
        {
          "metadata": {
            "tags": null
          },
          "name": "stdout",
          "output_type": "stream",
          "text": [
            "[Epoch: 060/100] Train: loss=0.61548, acc=0.71936 | Valid: loss=0.59767, acc=0.77714\n"
          ]
        },
        {
          "metadata": {
            "tags": null
          },
          "name": "stderr",
          "output_type": "stream",
          "text": [
            "100%|██████████| 130/130 [00:23<00:00,  5.58it/s]\n",
            "100%|██████████| 15/15 [00:02<00:00,  6.91it/s]\n"
          ]
        },
        {
          "metadata": {
            "tags": null
          },
          "name": "stdout",
          "output_type": "stream",
          "text": [
            "[Epoch: 061/100] Train: loss=0.62910, acc=0.72808 | Valid: loss=0.58627, acc=0.75571\n"
          ]
        },
        {
          "metadata": {
            "tags": null
          },
          "name": "stderr",
          "output_type": "stream",
          "text": [
            "100%|██████████| 130/130 [00:23<00:00,  5.65it/s]\n",
            "100%|██████████| 15/15 [00:02<00:00,  6.94it/s]\n"
          ]
        },
        {
          "metadata": {
            "tags": null
          },
          "name": "stdout",
          "output_type": "stream",
          "text": [
            "[Epoch: 062/100] Train: loss=0.62951, acc=0.72051 | Valid: loss=0.53358, acc=0.77714\n"
          ]
        },
        {
          "metadata": {
            "tags": null
          },
          "name": "stderr",
          "output_type": "stream",
          "text": [
            "100%|██████████| 130/130 [00:23<00:00,  5.56it/s]\n",
            "100%|██████████| 15/15 [00:02<00:00,  6.91it/s]\n"
          ]
        },
        {
          "metadata": {
            "tags": null
          },
          "name": "stdout",
          "output_type": "stream",
          "text": [
            "[Epoch: 063/100] Train: loss=0.61043, acc=0.73269 | Valid: loss=0.63310, acc=0.73905\n"
          ]
        },
        {
          "metadata": {
            "tags": null
          },
          "name": "stderr",
          "output_type": "stream",
          "text": [
            "100%|██████████| 130/130 [00:23<00:00,  5.61it/s]\n",
            "100%|██████████| 15/15 [00:02<00:00,  6.99it/s]\n"
          ]
        },
        {
          "metadata": {
            "tags": null
          },
          "name": "stdout",
          "output_type": "stream",
          "text": [
            "[Epoch: 064/100] Train: loss=0.63383, acc=0.72359 | Valid: loss=0.58630, acc=0.76095\n"
          ]
        },
        {
          "metadata": {
            "tags": null
          },
          "name": "stderr",
          "output_type": "stream",
          "text": [
            "100%|██████████| 130/130 [00:23<00:00,  5.59it/s]\n",
            "100%|██████████| 15/15 [00:02<00:00,  6.17it/s]\n"
          ]
        },
        {
          "metadata": {
            "tags": null
          },
          "name": "stdout",
          "output_type": "stream",
          "text": [
            "[Epoch: 065/100] Train: loss=0.61775, acc=0.72013 | Valid: loss=0.55730, acc=0.74810\n"
          ]
        },
        {
          "metadata": {
            "tags": null
          },
          "name": "stderr",
          "output_type": "stream",
          "text": [
            "100%|██████████| 130/130 [00:22<00:00,  5.66it/s]\n",
            "100%|██████████| 15/15 [00:02<00:00,  5.34it/s]\n"
          ]
        },
        {
          "metadata": {
            "tags": null
          },
          "name": "stdout",
          "output_type": "stream",
          "text": [
            "[Epoch: 066/100] Train: loss=0.60853, acc=0.72436 | Valid: loss=0.51858, acc=0.77048\n"
          ]
        },
        {
          "output_type": "stream",
          "name": "stderr",
          "text": [
            "100%|██████████| 130/130 [00:22<00:00,  5.67it/s]\n",
            "100%|██████████| 15/15 [00:02<00:00,  5.53it/s]\n"
          ]
        },
        {
          "output_type": "stream",
          "name": "stdout",
          "text": [
            "[Epoch: 067/100] Train: loss=0.62349, acc=0.73500 | Valid: loss=0.56636, acc=0.73714\n"
          ]
        },
        {
          "output_type": "stream",
          "name": "stderr",
          "text": [
            "100%|██████████| 130/130 [00:23<00:00,  5.52it/s]\n",
            "100%|██████████| 15/15 [00:02<00:00,  6.71it/s]\n"
          ]
        },
        {
          "output_type": "stream",
          "name": "stdout",
          "text": [
            "[Epoch: 068/100] Train: loss=0.60176, acc=0.74769 | Valid: loss=0.55972, acc=0.76429\n"
          ]
        },
        {
          "output_type": "stream",
          "name": "stderr",
          "text": [
            "100%|██████████| 130/130 [00:23<00:00,  5.51it/s]\n",
            "100%|██████████| 15/15 [00:02<00:00,  6.86it/s]\n"
          ]
        },
        {
          "output_type": "stream",
          "name": "stdout",
          "text": [
            "[Epoch: 069/100] Train: loss=0.61412, acc=0.72564 | Valid: loss=0.53467, acc=0.79095\n"
          ]
        },
        {
          "output_type": "stream",
          "name": "stderr",
          "text": [
            "100%|██████████| 130/130 [00:23<00:00,  5.45it/s]\n",
            "100%|██████████| 15/15 [00:02<00:00,  6.79it/s]\n"
          ]
        },
        {
          "output_type": "stream",
          "name": "stdout",
          "text": [
            "[Epoch: 070/100] Train: loss=0.62705, acc=0.72308 | Valid: loss=0.56745, acc=0.78048\n"
          ]
        },
        {
          "output_type": "stream",
          "name": "stderr",
          "text": [
            "100%|██████████| 130/130 [00:24<00:00,  5.36it/s]\n",
            "100%|██████████| 15/15 [00:02<00:00,  6.78it/s]\n"
          ]
        },
        {
          "output_type": "stream",
          "name": "stdout",
          "text": [
            "[Epoch: 071/100] Train: loss=0.61274, acc=0.73013 | Valid: loss=0.55666, acc=0.76381\n"
          ]
        },
        {
          "output_type": "stream",
          "name": "stderr",
          "text": [
            "100%|██████████| 130/130 [00:24<00:00,  5.37it/s]\n",
            "100%|██████████| 15/15 [00:02<00:00,  6.53it/s]\n"
          ]
        },
        {
          "output_type": "stream",
          "name": "stdout",
          "text": [
            "[Epoch: 072/100] Train: loss=0.59715, acc=0.73256 | Valid: loss=0.58371, acc=0.73810\n"
          ]
        },
        {
          "output_type": "stream",
          "name": "stderr",
          "text": [
            "100%|██████████| 130/130 [00:24<00:00,  5.34it/s]\n",
            "100%|██████████| 15/15 [00:02<00:00,  6.67it/s]\n"
          ]
        },
        {
          "output_type": "stream",
          "name": "stdout",
          "text": [
            "[Epoch: 073/100] Train: loss=0.60404, acc=0.73282 | Valid: loss=0.50193, acc=0.81714\n"
          ]
        },
        {
          "output_type": "stream",
          "name": "stderr",
          "text": [
            "100%|██████████| 130/130 [00:24<00:00,  5.41it/s]\n",
            "100%|██████████| 15/15 [00:02<00:00,  5.08it/s]\n"
          ]
        },
        {
          "output_type": "stream",
          "name": "stdout",
          "text": [
            "[Epoch: 074/100] Train: loss=0.60222, acc=0.74974 | Valid: loss=0.54664, acc=0.78429\n"
          ]
        },
        {
          "output_type": "stream",
          "name": "stderr",
          "text": [
            "100%|██████████| 130/130 [00:24<00:00,  5.41it/s]\n",
            "100%|██████████| 15/15 [00:02<00:00,  6.39it/s]\n"
          ]
        },
        {
          "output_type": "stream",
          "name": "stdout",
          "text": [
            "[Epoch: 075/100] Train: loss=0.60026, acc=0.74154 | Valid: loss=0.55042, acc=0.74714\n"
          ]
        },
        {
          "output_type": "stream",
          "name": "stderr",
          "text": [
            "100%|██████████| 130/130 [00:23<00:00,  5.47it/s]\n",
            "100%|██████████| 15/15 [00:02<00:00,  6.85it/s]\n"
          ]
        },
        {
          "output_type": "stream",
          "name": "stdout",
          "text": [
            "[Epoch: 076/100] Train: loss=0.58701, acc=0.74769 | Valid: loss=0.57443, acc=0.75095\n"
          ]
        },
        {
          "output_type": "stream",
          "name": "stderr",
          "text": [
            "100%|██████████| 130/130 [00:23<00:00,  5.47it/s]\n",
            "100%|██████████| 15/15 [00:02<00:00,  6.79it/s]\n"
          ]
        },
        {
          "output_type": "stream",
          "name": "stdout",
          "text": [
            "[Epoch: 077/100] Train: loss=0.59746, acc=0.75167 | Valid: loss=0.52588, acc=0.75476\n"
          ]
        },
        {
          "output_type": "stream",
          "name": "stderr",
          "text": [
            "100%|██████████| 130/130 [00:23<00:00,  5.49it/s]\n",
            "100%|██████████| 15/15 [00:02<00:00,  6.89it/s]\n"
          ]
        },
        {
          "output_type": "stream",
          "name": "stdout",
          "text": [
            "[Epoch: 078/100] Train: loss=0.61488, acc=0.72718 | Valid: loss=0.53573, acc=0.76095\n"
          ]
        },
        {
          "output_type": "stream",
          "name": "stderr",
          "text": [
            "100%|██████████| 130/130 [00:23<00:00,  5.55it/s]\n",
            "100%|██████████| 15/15 [00:02<00:00,  6.97it/s]\n"
          ]
        },
        {
          "output_type": "stream",
          "name": "stdout",
          "text": [
            "[Epoch: 079/100] Train: loss=0.60190, acc=0.73192 | Valid: loss=0.50580, acc=0.79000\n"
          ]
        },
        {
          "output_type": "stream",
          "name": "stderr",
          "text": [
            "100%|██████████| 130/130 [00:23<00:00,  5.52it/s]\n",
            "100%|██████████| 15/15 [00:02<00:00,  6.92it/s]\n"
          ]
        },
        {
          "output_type": "stream",
          "name": "stdout",
          "text": [
            "[Epoch: 080/100] Train: loss=0.59808, acc=0.74205 | Valid: loss=0.53202, acc=0.76143\n"
          ]
        },
        {
          "output_type": "stream",
          "name": "stderr",
          "text": [
            "100%|██████████| 130/130 [00:23<00:00,  5.50it/s]\n",
            "100%|██████████| 15/15 [00:02<00:00,  6.77it/s]\n"
          ]
        },
        {
          "output_type": "stream",
          "name": "stdout",
          "text": [
            "[Epoch: 081/100] Train: loss=0.58788, acc=0.75667 | Valid: loss=0.52204, acc=0.78381\n"
          ]
        },
        {
          "output_type": "stream",
          "name": "stderr",
          "text": [
            "100%|██████████| 130/130 [00:23<00:00,  5.48it/s]\n",
            "100%|██████████| 15/15 [00:02<00:00,  6.73it/s]\n"
          ]
        },
        {
          "output_type": "stream",
          "name": "stdout",
          "text": [
            "[Epoch: 082/100] Train: loss=0.57083, acc=0.75077 | Valid: loss=0.56592, acc=0.77095\n"
          ]
        },
        {
          "output_type": "stream",
          "name": "stderr",
          "text": [
            "100%|██████████| 130/130 [00:23<00:00,  5.53it/s]\n",
            "100%|██████████| 15/15 [00:02<00:00,  5.83it/s]\n"
          ]
        },
        {
          "output_type": "stream",
          "name": "stdout",
          "text": [
            "[Epoch: 083/100] Train: loss=0.60089, acc=0.74436 | Valid: loss=0.58843, acc=0.72095\n"
          ]
        },
        {
          "output_type": "stream",
          "name": "stderr",
          "text": [
            "100%|██████████| 130/130 [00:23<00:00,  5.60it/s]\n",
            "100%|██████████| 15/15 [00:02<00:00,  5.16it/s]\n"
          ]
        },
        {
          "output_type": "stream",
          "name": "stdout",
          "text": [
            "[Epoch: 084/100] Train: loss=0.58742, acc=0.74538 | Valid: loss=0.50751, acc=0.76381\n"
          ]
        },
        {
          "output_type": "stream",
          "name": "stderr",
          "text": [
            "100%|██████████| 130/130 [00:23<00:00,  5.59it/s]\n",
            "100%|██████████| 15/15 [00:02<00:00,  5.90it/s]\n"
          ]
        },
        {
          "output_type": "stream",
          "name": "stdout",
          "text": [
            "[Epoch: 085/100] Train: loss=0.57584, acc=0.75179 | Valid: loss=0.53368, acc=0.79333\n"
          ]
        },
        {
          "output_type": "stream",
          "name": "stderr",
          "text": [
            "100%|██████████| 130/130 [00:23<00:00,  5.46it/s]\n",
            "100%|██████████| 15/15 [00:02<00:00,  6.56it/s]\n"
          ]
        },
        {
          "output_type": "stream",
          "name": "stdout",
          "text": [
            "[Epoch: 086/100] Train: loss=0.58585, acc=0.74808 | Valid: loss=0.54926, acc=0.80714\n"
          ]
        },
        {
          "output_type": "stream",
          "name": "stderr",
          "text": [
            "100%|██████████| 130/130 [00:23<00:00,  5.46it/s]\n",
            "100%|██████████| 15/15 [00:02<00:00,  6.90it/s]\n"
          ]
        },
        {
          "output_type": "stream",
          "name": "stdout",
          "text": [
            "[Epoch: 087/100] Train: loss=0.56787, acc=0.75462 | Valid: loss=0.53276, acc=0.81381\n"
          ]
        },
        {
          "output_type": "stream",
          "name": "stderr",
          "text": [
            "100%|██████████| 130/130 [00:23<00:00,  5.47it/s]\n",
            "100%|██████████| 15/15 [00:02<00:00,  6.78it/s]\n"
          ]
        },
        {
          "output_type": "stream",
          "name": "stdout",
          "text": [
            "[Epoch: 088/100] Train: loss=0.58888, acc=0.73936 | Valid: loss=0.53018, acc=0.80381\n"
          ]
        },
        {
          "output_type": "stream",
          "name": "stderr",
          "text": [
            "100%|██████████| 130/130 [00:23<00:00,  5.52it/s]\n",
            "100%|██████████| 15/15 [00:02<00:00,  6.84it/s]\n"
          ]
        },
        {
          "output_type": "stream",
          "name": "stdout",
          "text": [
            "[Epoch: 089/100] Train: loss=0.55856, acc=0.75667 | Valid: loss=0.51598, acc=0.77762\n"
          ]
        },
        {
          "output_type": "stream",
          "name": "stderr",
          "text": [
            "100%|██████████| 130/130 [00:23<00:00,  5.52it/s]\n",
            "100%|██████████| 15/15 [00:02<00:00,  6.77it/s]\n"
          ]
        },
        {
          "output_type": "stream",
          "name": "stdout",
          "text": [
            "[Epoch: 090/100] Train: loss=0.57784, acc=0.74936 | Valid: loss=0.52507, acc=0.78810\n"
          ]
        },
        {
          "output_type": "stream",
          "name": "stderr",
          "text": [
            "100%|██████████| 130/130 [00:23<00:00,  5.49it/s]\n",
            "100%|██████████| 15/15 [00:02<00:00,  6.87it/s]\n"
          ]
        },
        {
          "output_type": "stream",
          "name": "stdout",
          "text": [
            "[Epoch: 091/100] Train: loss=0.58883, acc=0.74744 | Valid: loss=0.53161, acc=0.77143\n"
          ]
        },
        {
          "output_type": "stream",
          "name": "stderr",
          "text": [
            "100%|██████████| 130/130 [00:23<00:00,  5.50it/s]\n",
            "100%|██████████| 15/15 [00:02<00:00,  6.66it/s]\n"
          ]
        },
        {
          "output_type": "stream",
          "name": "stdout",
          "text": [
            "[Epoch: 092/100] Train: loss=0.57996, acc=0.75551 | Valid: loss=0.50551, acc=0.79381\n"
          ]
        },
        {
          "output_type": "stream",
          "name": "stderr",
          "text": [
            "100%|██████████| 130/130 [00:23<00:00,  5.45it/s]\n",
            "100%|██████████| 15/15 [00:02<00:00,  6.16it/s]\n"
          ]
        },
        {
          "output_type": "stream",
          "name": "stdout",
          "text": [
            "[Epoch: 093/100] Train: loss=0.60182, acc=0.74628 | Valid: loss=0.49057, acc=0.78429\n"
          ]
        },
        {
          "output_type": "stream",
          "name": "stderr",
          "text": [
            "100%|██████████| 130/130 [00:23<00:00,  5.55it/s]\n",
            "100%|██████████| 15/15 [00:02<00:00,  5.21it/s]\n"
          ]
        },
        {
          "output_type": "stream",
          "name": "stdout",
          "text": [
            "[Epoch: 094/100] Train: loss=0.57642, acc=0.76000 | Valid: loss=0.55125, acc=0.79048\n"
          ]
        },
        {
          "output_type": "stream",
          "name": "stderr",
          "text": [
            "100%|██████████| 130/130 [00:23<00:00,  5.61it/s]\n",
            "100%|██████████| 15/15 [00:02<00:00,  5.71it/s]\n"
          ]
        },
        {
          "output_type": "stream",
          "name": "stdout",
          "text": [
            "[Epoch: 095/100] Train: loss=0.56747, acc=0.75590 | Valid: loss=0.50689, acc=0.79333\n"
          ]
        },
        {
          "output_type": "stream",
          "name": "stderr",
          "text": [
            "100%|██████████| 130/130 [00:23<00:00,  5.51it/s]\n",
            "100%|██████████| 15/15 [00:02<00:00,  6.81it/s]\n"
          ]
        },
        {
          "output_type": "stream",
          "name": "stdout",
          "text": [
            "[Epoch: 096/100] Train: loss=0.57918, acc=0.75282 | Valid: loss=0.52808, acc=0.80381\n"
          ]
        },
        {
          "output_type": "stream",
          "name": "stderr",
          "text": [
            "100%|██████████| 130/130 [00:23<00:00,  5.51it/s]\n",
            "100%|██████████| 15/15 [00:02<00:00,  6.83it/s]\n"
          ]
        },
        {
          "output_type": "stream",
          "name": "stdout",
          "text": [
            "[Epoch: 097/100] Train: loss=0.54717, acc=0.76731 | Valid: loss=0.49815, acc=0.78381\n"
          ]
        },
        {
          "output_type": "stream",
          "name": "stderr",
          "text": [
            "100%|██████████| 130/130 [00:23<00:00,  5.46it/s]\n",
            "100%|██████████| 15/15 [00:02<00:00,  6.89it/s]\n"
          ]
        },
        {
          "output_type": "stream",
          "name": "stdout",
          "text": [
            "[Epoch: 098/100] Train: loss=0.56538, acc=0.75667 | Valid: loss=0.52116, acc=0.76476\n"
          ]
        },
        {
          "output_type": "stream",
          "name": "stderr",
          "text": [
            "100%|██████████| 130/130 [00:23<00:00,  5.52it/s]\n",
            "100%|██████████| 15/15 [00:02<00:00,  6.86it/s]\n"
          ]
        },
        {
          "output_type": "stream",
          "name": "stdout",
          "text": [
            "[Epoch: 099/100] Train: loss=0.55579, acc=0.75551 | Valid: loss=0.52909, acc=0.78048\n"
          ]
        },
        {
          "output_type": "stream",
          "name": "stderr",
          "text": [
            "100%|██████████| 130/130 [00:23<00:00,  5.48it/s]\n",
            "100%|██████████| 15/15 [00:02<00:00,  6.76it/s]"
          ]
        },
        {
          "output_type": "stream",
          "name": "stdout",
          "text": [
            "[Epoch: 100/100] Train: loss=0.58747, acc=0.74705 | Valid: loss=0.52881, acc=0.78000\n"
          ]
        },
        {
          "output_type": "stream",
          "name": "stderr",
          "text": [
            "\n"
          ]
        }
      ],
      "source": [
        "#train alexnet model.\n",
        "mport torch\n",
        "import torch.nn as nn\n",
        "from tqdm import tqdm\n",
        "\n",
        "n_epochs = 100\n",
        "best_valid_acc = 0\n",
        "train_loss_epochs = []\n",
        "train_acc_epochs = []\n",
        "valid_loss_epochs = []\n",
        "valid_acc_epochs = []\n",
        "\n",
        "for epoch in range(n_epochs):\n",
        "    alexnet_model.train()\n",
        "    train_loss = []\n",
        "    train_accs = []\n",
        "\n",
        "    for batch in tqdm(train_loader):\n",
        "        optimizer.zero_grad()\n",
        "        imgs, labels = batch\n",
        "        imgs = imgs.to(device)\n",
        "        labels = labels.to(device)\n",
        "\n",
        "        imgs = imgs[:, :1, :, :]\n",
        "\n",
        "        logits = alexnet_model(imgs)\n",
        "        loss = criterion(logits, labels)\n",
        "        loss.backward()\n",
        "        optimizer.step()\n",
        "\n",
        "        acc = (logits.argmax(dim=-1) == labels).float().mean()\n",
        "        train_loss.append(loss.item())\n",
        "        train_accs.append(acc.item())\n",
        "\n",
        "    train_loss = sum(train_loss) / len(train_loss)\n",
        "    train_acc = sum(train_accs) / len(train_accs)\n",
        "    train_loss_epochs.append(train_loss)\n",
        "    train_acc_epochs.append(train_acc)\n",
        "\n",
        "    alexnet_model.eval()\n",
        "    valid_loss = []\n",
        "    valid_accs = []\n",
        "\n",
        "    for batch in tqdm(valid_loader):\n",
        "        imgs, labels = batch\n",
        "        imgs = imgs.to(device)\n",
        "        labels = labels.to(device)\n",
        "\n",
        "\n",
        "        imgs = imgs[:, :1, :, :]\n",
        "\n",
        "        with torch.no_grad():\n",
        "            logits = alexnet_model(imgs)\n",
        "\n",
        "        loss = criterion(logits, labels)\n",
        "        acc = (logits.argmax(dim=-1) == labels).float().mean()\n",
        "\n",
        "        valid_loss.append(loss.item())\n",
        "        valid_accs.append(acc.item())\n",
        "\n",
        "    valid_loss = sum(valid_loss) / len(valid_loss)\n",
        "    valid_acc = sum(valid_accs) / len(valid_accs)\n",
        "    valid_loss_epochs.append(valid_loss)\n",
        "    valid_acc_epochs.append(valid_acc)\n",
        "\n",
        "    if valid_acc > best_valid_acc:\n",
        "        best_valid_acc = valid_acc\n",
        "        torch.save(alexnet_model.state_dict(), 'best_alexnet_model.pth')\n",
        "\n",
        "    print(f\"[Epoch: {epoch + 1:03d}/{n_epochs:03d}] Train: loss={train_loss:.5f}, acc={train_acc:.5f} | Valid: loss={valid_loss:.5f}, acc={valid_acc:.5f}\")\n"
      ]
    },
    {
      "cell_type": "markdown",
      "source": [
        "### **5) Evaluate AlexNet model**\n",
        "\n",
        "\n"
      ],
      "metadata": {
        "id": "LilYmT7uUK4Y"
      }
    },
    {
      "cell_type": "code",
      "execution_count": null,
      "metadata": {
        "colab": {
          "base_uri": "https://localhost:8080/",
          "height": 927
        },
        "id": "xbq4CGO9lypQ",
        "outputId": "c10ec53c-336a-498a-a3d2-fc93d63f34e6"
      },
      "outputs": [
        {
          "output_type": "display_data",
          "data": {
            "text/plain": [
              "<Figure size 640x480 with 1 Axes>"
            ],
            "image/png": "[encoded data removed]"
          },
          "metadata": {}
        },
        {
          "output_type": "display_data",
          "data": {
            "text/plain": [
              "<Figure size 640x480 with 1 Axes>"
            ],
            "image/png": "[encoded data removed]"
          },
          "metadata": {}
        }
      ],
      "source": [
        "#plot train and validation loss\n",
        "plt.figure()\n",
        "plt.plot(train_loss_epochs, label = \"Train Loss\")\n",
        "plt.plot(valid_loss_epochs, label = \"Validation Loss\")\n",
        "plt.xlabel(\"Epochs\")\n",
        "plt.ylabel(\"Loss\")\n",
        "plt.title(\"Train and Validation Loss\")\n",
        "plt.legend()\n",
        "plt.show()\n",
        "\n",
        "#plot train and validation accuracy\n",
        "plt.figure()\n",
        "plt.plot(train_acc_epochs, label = \"Train Accuracy\")\n",
        "plt.plot(valid_acc_epochs, label = \"Validation Accuracy\")\n",
        "plt.xlabel(\"Epochs\")\n",
        "plt.ylabel(\"Accuracy\")\n",
        "plt.title(\"Train and Validation Accuracy\")\n",
        "plt.legend()\n",
        "plt.show()"
      ]
    },
    {
      "cell_type": "code",
      "execution_count": null,
      "metadata": {
        "colab": {
          "base_uri": "https://localhost:8080/",
          "height": 564
        },
        "id": "CJ7T4ajIlxCE",
        "outputId": "abb720d7-48ac-46a4-cbc7-0d34b1005824"
      },
      "outputs": [
        {
          "output_type": "display_data",
          "data": {
            "text/plain": [
              "<Figure size 800x600 with 2 Axes>"
            ],
            "image/png": "[encoded data removed]"
          },
          "metadata": {}
        }
      ],
      "source": [
        "#plot confusion matrix\n",
        "from sklearn.metrics import confusion_matrix\n",
        "import matplotlib.pyplot as plt\n",
        "import seaborn as sns\n",
        "\n",
        "class_labels = []\n",
        "y_pred_classes = []\n",
        "\n",
        "class_names = ['glioma_tumor', 'meningioma_tumor', 'no_tumor', 'pituitary_tumor']\n",
        "\n",
        "alexnet_model.to(device)\n",
        "\n",
        "for batch in test_loader:\n",
        "    imgs, labels = batch\n",
        "    imgs_gray = torch.mean(imgs, dim=1, keepdim=True)\n",
        "    imgs_gray = imgs_gray.to(device)\n",
        "    labels = labels.to(device)\n",
        "    with torch.no_grad():\n",
        "        logits = alexnet_model(imgs_gray)\n",
        "    pred_classes = logits.argmax(dim=-1)\n",
        "    class_labels.extend(labels.cpu().numpy())\n",
        "    y_pred_classes.extend(pred_classes.cpu().numpy())\n",
        "\n",
        "conf_matrix = confusion_matrix(class_labels, y_pred_classes, labels=range(len(class_names)))\n",
        "\n",
        "plt.figure(figsize=(8, 6))\n",
        "sns.heatmap(conf_matrix, annot=True, fmt='d', cmap='Blues', xticklabels=class_names, yticklabels=class_names)\n",
        "plt.xlabel('Predicted Labels')\n",
        "plt.ylabel('True Labels')\n",
        "plt.title('Confusion Matrix')\n",
        "plt.show()\n"
      ]
    },
    {
      "cell_type": "code",
      "execution_count": null,
      "metadata": {
        "colab": {
          "background_save": true
        },
        "id": "fDuNL98DetnO",
        "outputId": "6567bef2-41f1-48c7-e832-62f2f2930179"
      },
      "outputs": [
        {
          "name": "stdout",
          "output_type": "stream",
          "text": [
            "AlexNet(\n",
            "  (features): Sequential(\n",
            "    (0): Conv2d(1, 64, kernel_size=(11, 11), stride=(4, 4), padding=(2, 2))\n",
            "    (1): ReLU(inplace=True)\n",
            "    (2): MaxPool2d(kernel_size=3, stride=2, padding=0, dilation=1, ceil_mode=False)\n",
            "    (3): Conv2d(64, 192, kernel_size=(5, 5), stride=(1, 1), padding=(2, 2))\n",
            "    (4): ReLU(inplace=True)\n",
            "    (5): MaxPool2d(kernel_size=3, stride=2, padding=0, dilation=1, ceil_mode=False)\n",
            "    (6): Conv2d(192, 384, kernel_size=(3, 3), stride=(1, 1), padding=(1, 1))\n",
            "    (7): ReLU(inplace=True)\n",
            "    (8): Conv2d(384, 256, kernel_size=(3, 3), stride=(1, 1), padding=(1, 1))\n",
            "    (9): ReLU(inplace=True)\n",
            "    (10): Conv2d(256, 256, kernel_size=(3, 3), stride=(1, 1), padding=(1, 1))\n",
            "    (11): ReLU(inplace=True)\n",
            "    (12): MaxPool2d(kernel_size=3, stride=2, padding=0, dilation=1, ceil_mode=False)\n",
            "  )\n",
            "  (avgpool): AdaptiveAvgPool2d(output_size=(6, 6))\n",
            "  (classifier): Sequential(\n",
            "    (0): Dropout(p=0.5, inplace=False)\n",
            "    (1): Linear(in_features=9216, out_features=4096, bias=True)\n",
            "    (2): ReLU(inplace=True)\n",
            "    (3): Dropout(p=0.5, inplace=False)\n",
            "    (4): Linear(in_features=4096, out_features=4096, bias=True)\n",
            "    (5): ReLU(inplace=True)\n",
            "    (6): Linear(in_features=4096, out_features=1000, bias=True)\n",
            "  )\n",
            ")\n"
          ]
        }
      ],
      "source": [
        "#print alexnet model so architecture can be explored.\n",
        "print(alexnet_model)"
      ]
    }
  ],
  "metadata": {
    "accelerator": "GPU",
    "colab": {
      "gpuType": "T4",
      "provenance": []
    },
    "kernelspec": {
      "display_name": "Python 3",
      "name": "python3"
    },
    "language_info": {
      "name": "python"
    }
  },
  "nbformat": 4,
  "nbformat_minor": 0
}